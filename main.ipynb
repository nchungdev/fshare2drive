{
  "cells": [
    {
      "cell_type": "markdown",
      "metadata": {
        "id": "view-in-github",
        "colab_type": "text"
      },
      "source": [
        "<a href=\"https://colab.research.google.com/github/nchungdev/fshare2drive/blob/main/main.ipynb\" target=\"_parent\"><img src=\"https://colab.research.google.com/assets/colab-badge.svg\" alt=\"Open In Colab\"/></a>"
      ]
    },
    {
      "cell_type": "code",
      "execution_count": null,
      "metadata": {
        "id": "j0BoSib5Wi9n"
      },
      "outputs": [],
      "source": [
        "# @title Setup Enviroment { display-mode: \"form\" }\n",
        "from google.colab import drive\n",
        "drive.mount('/content/drive')\n",
        "!git clone https://github.com/nchungdev/fshare2drive\n",
        "!cd fshare2drive\n",
        "!mv -v fshare2drive/* .\n",
        "!rm -r fshare2drive\n",
        "!mv config.ini.example config.ini\n",
        "!pip3 install -r requirements.txt"
      ]
    },
    {
      "cell_type": "code",
      "execution_count": 5,
      "metadata": {
        "id": "GXCuWVLaIvit"
      },
      "outputs": [],
      "source": [
        "# @title Import Authen Info (fshare) { display-mode: \"form\" }\n",
        "!python3 fetch_auth_info.py"
      ]
    },
    {
      "cell_type": "code",
      "source": [
        "# @title Download from link (only fshare) { run: \"auto\", vertical-output: true, display-mode: \"form\" }\n",
        "Link = \"\" # @param {type:\"string\"}\n",
        "!python download.py $Link"
      ],
      "metadata": {
        "id": "hT4EdDqNg_EQ"
      },
      "execution_count": null,
      "outputs": []
    },
    {
      "cell_type": "code",
      "source": [
        "# @title Download from files (only fshare) { run: \"auto\", vertical-output: true, display-mode: \"form\" }\n",
        "from google.colab import files\n",
        "import io\n",
        "\n",
        "def upload_files():\n",
        "  uploaded = files.upload()\n",
        "  file_names = []\n",
        "  for name, content in uploaded.items():\n",
        "    file_names.append(name)\n",
        "  return file_names\n",
        "\n",
        "def flat_files_to_urls(file_names):\n",
        "  urls = ''\n",
        "  for fname in file_names:\n",
        "    print(fname)\n",
        "    with io.open(fname, \"r\", encoding=\"utf-8\") as my_file:\n",
        "      content = my_file.read().replace('\\n', ' ')\n",
        "      urls += content\n",
        "  return urls\n",
        "\n",
        "urls = flat_files_to_urls(upload_files())\n",
        "\n",
        "!python download.py $urls\n"
      ],
      "metadata": {
        "id": "0IFlmVJwFlf1"
      },
      "execution_count": null,
      "outputs": []
    }
  ],
  "metadata": {
    "colab": {
      "provenance": [],
      "gpuType": "T4",
      "include_colab_link": true
    },
    "kernelspec": {
      "display_name": "Python 3",
      "name": "python3"
    },
    "language_info": {
      "name": "python"
    }
  },
  "nbformat": 4,
  "nbformat_minor": 0
}